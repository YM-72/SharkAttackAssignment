{
  "nbformat": 4,
  "nbformat_minor": 0,
  "metadata": {
    "colab": {
      "provenance": []
    },
    "kernelspec": {
      "name": "python3",
      "display_name": "Python 3"
    },
    "language_info": {
      "name": "python"
    }
  },
  "cells": [
    {
      "cell_type": "code",
      "execution_count": null,
      "metadata": {
        "id": "UKbIloTbmYt9"
      },
      "outputs": [],
      "source": [
        "import numpy as np\n",
        "import pandas as pd\n",
        "import matplotlib.pyplot as plt\n",
        "plt.style.use('ggplot')\n",
        "\n",
        "# Data:\n",
        "file = ('attacks.csv')\n",
        "\n",
        "df = pd.read_csv(file, encoding='cp1252')\n",
        "df\n",
        "\n",
        "df1 = df.drop(columns=['Case Number', 'Date', 'Year', 'Country', 'Area', 'Investigator or Source', 'pdf', 'href formula', 'href', 'Case Number.1', 'Case Number.2', 'original order', 'Unnamed: 22', 'Unnamed: 23', 'Time', 'Injury', 'Name', 'Sex ', 'Location'])\n",
        "\n",
        "#Renaming columns\n",
        "df1 = df1.rename(columns={'Fatal (Y/N)':'Fatal', 'Species ': 'Species'})\n",
        "df1\n",
        "\n"
      ]
    },
    {
      "cell_type": "code",
      "source": [
        "def unique(column):\n",
        "    print(f'Unique values in this column are:\\n {column.unique()}\\n')\n",
        "\n",
        "\n",
        "# Function to sort unique values in alphabetical order\n",
        "def edges(column):\n",
        "    try:\n",
        "      print(f'Sorting unique values in this column:\\n {column.sort_values().unique()}\\n')\n",
        "    except ValueError as error:\n",
        "      print(f\"Couldn't sort order because of: {error}\\n\")\n",
        "\n",
        "\n",
        "# Function to cast all values into this type\n",
        "def casting(column, dtype): \n",
        "    try:\n",
        "      column.astype(dtype)\n",
        "      print(f\"Casting values into '{dtype}' is successful\\n\")\n",
        "    except ValueError as error:\n",
        "      print(f\"Couldn't cast values into '{dtype}': {error}\\n\")\n",
        "\n",
        "\n",
        "# Function to count the amount of unique values\n",
        "def count_missing_values(column):\n",
        "    print('Counting values in this column:')\n",
        "    display(column.value_counts())\n",
        "    print('*' * 160)\n",
        "\n",
        "\n",
        "# Function to find (non-default) missing values\n",
        "# 4  strategies are applied when searching for missing values\n",
        "def find_non_default_values(column_name, dtype):\n",
        "  column = df1[column_name]\n",
        "\n",
        "  print(f'Missing value analysis on column: {column_name}\\n')\n",
        "  unique(column)\n",
        "  edges(column)\n",
        "  casting(column, dtype)\n",
        "  count_missing_values(column)"
      ],
      "metadata": {
        "id": "TG2ZVFP-FBHI"
      },
      "execution_count": 50,
      "outputs": []
    },
    {
      "cell_type": "code",
      "source": [
        "#Apply functions to find non_default_values:\n",
        "find_non_default_values('Type', 'str')\n",
        "find_non_default_values('Activity', 'str')\n",
        "find_non_default_values('Age', 'float')\n",
        "find_non_default_values('Fatal', 'str')\n",
        "find_non_default_values('Species', 'str')"
      ],
      "metadata": {
        "id": "hbJitHYFFYem"
      },
      "execution_count": null,
      "outputs": []
    },
    {
      "cell_type": "code",
      "source": [
        "#Cleaning data values\n",
        "\n",
        "# Drop rows where all data values are missing from the dataset  \n",
        "df1 = df1.dropna(how='all')\n",
        "\n",
        "#Removed whitespaces in dataset by applying 'skipinitialspace=True' while importing data\n",
        "#https://stackoverflow.com/questions/43332057/pandas-strip-white-space\n",
        "\n",
        "\n",
        "###REPLACING###\n",
        "#function to replace non-default missing values with default missing values\n",
        "def replace(df, column_name, old_value, new_value):\n",
        "  column = df[column_name]\n",
        "  df[column_name] = column.replace({old_value:new_value})\n",
        "\n",
        "\n",
        "#Replacing values in column 'Type'\n",
        "#Replacing typo 'Boatomg' and 'Boat' to 'Boating\n",
        "#NaN is replaced by None \n",
        "replace(df1, 'Type', 'Boatomg', 'Boating') #--> 'Boatomg' is replaced by 'Boating'\n",
        "replace(df1,'Type', 'Boat', 'Boating')    #--> 'Boat' is replaced by 'Boating'\n",
        "replace(df1,'Type', np.nan, None)    #--> 'NaN' is replaced by None\n",
        "\n",
        "\n",
        "\n",
        "#Replacing values in column 'Activity'\n",
        "#NaN is replaced by None \n",
        "replace(df1, 'Activity', '.', None)  # --> . replaced by None\n",
        "replace(df1, 'Activity', np.nan, None)\n",
        "\n",
        "\n",
        "#Replacing values in column 'Species'\n",
        "replace(df1, 'Species', np.nan, None)\n",
        "replace(df1, 'Species', ' ', None)\n",
        "\n",
        "\n",
        "#Replacing values in column 'Fatal'\n",
        "#Dealing with different values\n",
        "df2 = df1.replace({'Fatal': {\n",
        "    'N': False,\n",
        "    'Y':True,\n",
        "    'M': False,\n",
        "    'UNKNOWN': False,\n",
        "    '2017': False,\n",
        "    ' N': False,\n",
        "    'N ': False,\n",
        "    'y': True,\n",
        "    np.nan: False,\n",
        "    \" \": False}})\n",
        "\n",
        "\n",
        "#Show new dataset with adjusted default values\n",
        "#Using this dataset to answer the questions\n",
        "df2\n"
      ],
      "metadata": {
        "colab": {
          "base_uri": "https://localhost:8080/",
          "height": 528
        },
        "id": "pgzvphZgFirp",
        "outputId": "bb68d3c7-11f8-4744-8252-0fb40457cd0c"
      },
      "execution_count": 53,
      "outputs": [
        {
          "output_type": "stream",
          "name": "stderr",
          "text": [
            "<ipython-input-53-bfabc331f826>:14: SettingWithCopyWarning: \n",
            "A value is trying to be set on a copy of a slice from a DataFrame.\n",
            "Try using .loc[row_indexer,col_indexer] = value instead\n",
            "\n",
            "See the caveats in the documentation: https://pandas.pydata.org/pandas-docs/stable/user_guide/indexing.html#returning-a-view-versus-a-copy\n",
            "  df[column_name] = column.replace({old_value:new_value})\n"
          ]
        },
        {
          "output_type": "execute_result",
          "data": {
            "text/plain": [
              "            Type      Activity  Age  Fatal          Species\n",
              "0        Boating      Paddling   57  False      White shark\n",
              "1     Unprovoked      Standing   11  False             None\n",
              "2        Invalid       Surfing   48  False             None\n",
              "3     Unprovoked       Surfing  NaN  False        2 m shark\n",
              "4       Provoked   Free diving  NaN  False  Tiger shark, 3m\n",
              "...          ...           ...  ...    ...              ...\n",
              "6297  Unprovoked        Diving  NaN   True             None\n",
              "6298  Unprovoked  Pearl diving  NaN   True             None\n",
              "6299  Unprovoked      Swimming  NaN   True             None\n",
              "6300  Unprovoked          None  NaN   True             None\n",
              "6301  Unprovoked      Swimming   15   True             None\n",
              "\n",
              "[6302 rows x 5 columns]"
            ],
            "text/html": [
              "\n",
              "  <div id=\"df-11e7e5e5-4ff6-4481-a7a9-e400a27adeff\">\n",
              "    <div class=\"colab-df-container\">\n",
              "      <div>\n",
              "<style scoped>\n",
              "    .dataframe tbody tr th:only-of-type {\n",
              "        vertical-align: middle;\n",
              "    }\n",
              "\n",
              "    .dataframe tbody tr th {\n",
              "        vertical-align: top;\n",
              "    }\n",
              "\n",
              "    .dataframe thead th {\n",
              "        text-align: right;\n",
              "    }\n",
              "</style>\n",
              "<table border=\"1\" class=\"dataframe\">\n",
              "  <thead>\n",
              "    <tr style=\"text-align: right;\">\n",
              "      <th></th>\n",
              "      <th>Type</th>\n",
              "      <th>Activity</th>\n",
              "      <th>Age</th>\n",
              "      <th>Fatal</th>\n",
              "      <th>Species</th>\n",
              "    </tr>\n",
              "  </thead>\n",
              "  <tbody>\n",
              "    <tr>\n",
              "      <th>0</th>\n",
              "      <td>Boating</td>\n",
              "      <td>Paddling</td>\n",
              "      <td>57</td>\n",
              "      <td>False</td>\n",
              "      <td>White shark</td>\n",
              "    </tr>\n",
              "    <tr>\n",
              "      <th>1</th>\n",
              "      <td>Unprovoked</td>\n",
              "      <td>Standing</td>\n",
              "      <td>11</td>\n",
              "      <td>False</td>\n",
              "      <td>None</td>\n",
              "    </tr>\n",
              "    <tr>\n",
              "      <th>2</th>\n",
              "      <td>Invalid</td>\n",
              "      <td>Surfing</td>\n",
              "      <td>48</td>\n",
              "      <td>False</td>\n",
              "      <td>None</td>\n",
              "    </tr>\n",
              "    <tr>\n",
              "      <th>3</th>\n",
              "      <td>Unprovoked</td>\n",
              "      <td>Surfing</td>\n",
              "      <td>NaN</td>\n",
              "      <td>False</td>\n",
              "      <td>2 m shark</td>\n",
              "    </tr>\n",
              "    <tr>\n",
              "      <th>4</th>\n",
              "      <td>Provoked</td>\n",
              "      <td>Free diving</td>\n",
              "      <td>NaN</td>\n",
              "      <td>False</td>\n",
              "      <td>Tiger shark, 3m</td>\n",
              "    </tr>\n",
              "    <tr>\n",
              "      <th>...</th>\n",
              "      <td>...</td>\n",
              "      <td>...</td>\n",
              "      <td>...</td>\n",
              "      <td>...</td>\n",
              "      <td>...</td>\n",
              "    </tr>\n",
              "    <tr>\n",
              "      <th>6297</th>\n",
              "      <td>Unprovoked</td>\n",
              "      <td>Diving</td>\n",
              "      <td>NaN</td>\n",
              "      <td>True</td>\n",
              "      <td>None</td>\n",
              "    </tr>\n",
              "    <tr>\n",
              "      <th>6298</th>\n",
              "      <td>Unprovoked</td>\n",
              "      <td>Pearl diving</td>\n",
              "      <td>NaN</td>\n",
              "      <td>True</td>\n",
              "      <td>None</td>\n",
              "    </tr>\n",
              "    <tr>\n",
              "      <th>6299</th>\n",
              "      <td>Unprovoked</td>\n",
              "      <td>Swimming</td>\n",
              "      <td>NaN</td>\n",
              "      <td>True</td>\n",
              "      <td>None</td>\n",
              "    </tr>\n",
              "    <tr>\n",
              "      <th>6300</th>\n",
              "      <td>Unprovoked</td>\n",
              "      <td>None</td>\n",
              "      <td>NaN</td>\n",
              "      <td>True</td>\n",
              "      <td>None</td>\n",
              "    </tr>\n",
              "    <tr>\n",
              "      <th>6301</th>\n",
              "      <td>Unprovoked</td>\n",
              "      <td>Swimming</td>\n",
              "      <td>15</td>\n",
              "      <td>True</td>\n",
              "      <td>None</td>\n",
              "    </tr>\n",
              "  </tbody>\n",
              "</table>\n",
              "<p>6302 rows × 5 columns</p>\n",
              "</div>\n",
              "      <button class=\"colab-df-convert\" onclick=\"convertToInteractive('df-11e7e5e5-4ff6-4481-a7a9-e400a27adeff')\"\n",
              "              title=\"Convert this dataframe to an interactive table.\"\n",
              "              style=\"display:none;\">\n",
              "        \n",
              "  <svg xmlns=\"http://www.w3.org/2000/svg\" height=\"24px\"viewBox=\"0 0 24 24\"\n",
              "       width=\"24px\">\n",
              "    <path d=\"M0 0h24v24H0V0z\" fill=\"none\"/>\n",
              "    <path d=\"M18.56 5.44l.94 2.06.94-2.06 2.06-.94-2.06-.94-.94-2.06-.94 2.06-2.06.94zm-11 1L8.5 8.5l.94-2.06 2.06-.94-2.06-.94L8.5 2.5l-.94 2.06-2.06.94zm10 10l.94 2.06.94-2.06 2.06-.94-2.06-.94-.94-2.06-.94 2.06-2.06.94z\"/><path d=\"M17.41 7.96l-1.37-1.37c-.4-.4-.92-.59-1.43-.59-.52 0-1.04.2-1.43.59L10.3 9.45l-7.72 7.72c-.78.78-.78 2.05 0 2.83L4 21.41c.39.39.9.59 1.41.59.51 0 1.02-.2 1.41-.59l7.78-7.78 2.81-2.81c.8-.78.8-2.07 0-2.86zM5.41 20L4 18.59l7.72-7.72 1.47 1.35L5.41 20z\"/>\n",
              "  </svg>\n",
              "      </button>\n",
              "      \n",
              "  <style>\n",
              "    .colab-df-container {\n",
              "      display:flex;\n",
              "      flex-wrap:wrap;\n",
              "      gap: 12px;\n",
              "    }\n",
              "\n",
              "    .colab-df-convert {\n",
              "      background-color: #E8F0FE;\n",
              "      border: none;\n",
              "      border-radius: 50%;\n",
              "      cursor: pointer;\n",
              "      display: none;\n",
              "      fill: #1967D2;\n",
              "      height: 32px;\n",
              "      padding: 0 0 0 0;\n",
              "      width: 32px;\n",
              "    }\n",
              "\n",
              "    .colab-df-convert:hover {\n",
              "      background-color: #E2EBFA;\n",
              "      box-shadow: 0px 1px 2px rgba(60, 64, 67, 0.3), 0px 1px 3px 1px rgba(60, 64, 67, 0.15);\n",
              "      fill: #174EA6;\n",
              "    }\n",
              "\n",
              "    [theme=dark] .colab-df-convert {\n",
              "      background-color: #3B4455;\n",
              "      fill: #D2E3FC;\n",
              "    }\n",
              "\n",
              "    [theme=dark] .colab-df-convert:hover {\n",
              "      background-color: #434B5C;\n",
              "      box-shadow: 0px 1px 3px 1px rgba(0, 0, 0, 0.15);\n",
              "      filter: drop-shadow(0px 1px 2px rgba(0, 0, 0, 0.3));\n",
              "      fill: #FFFFFF;\n",
              "    }\n",
              "  </style>\n",
              "\n",
              "      <script>\n",
              "        const buttonEl =\n",
              "          document.querySelector('#df-11e7e5e5-4ff6-4481-a7a9-e400a27adeff button.colab-df-convert');\n",
              "        buttonEl.style.display =\n",
              "          google.colab.kernel.accessAllowed ? 'block' : 'none';\n",
              "\n",
              "        async function convertToInteractive(key) {\n",
              "          const element = document.querySelector('#df-11e7e5e5-4ff6-4481-a7a9-e400a27adeff');\n",
              "          const dataTable =\n",
              "            await google.colab.kernel.invokeFunction('convertToInteractive',\n",
              "                                                     [key], {});\n",
              "          if (!dataTable) return;\n",
              "\n",
              "          const docLinkHtml = 'Like what you see? Visit the ' +\n",
              "            '<a target=\"_blank\" href=https://colab.research.google.com/notebooks/data_table.ipynb>data table notebook</a>'\n",
              "            + ' to learn more about interactive tables.';\n",
              "          element.innerHTML = '';\n",
              "          dataTable['output_type'] = 'display_data';\n",
              "          await google.colab.output.renderOutput(dataTable, element);\n",
              "          const docLink = document.createElement('div');\n",
              "          docLink.innerHTML = docLinkHtml;\n",
              "          element.appendChild(docLink);\n",
              "        }\n",
              "      </script>\n",
              "    </div>\n",
              "  </div>\n",
              "  "
            ]
          },
          "metadata": {},
          "execution_count": 53
        }
      ]
    },
    {
      "cell_type": "code",
      "source": [
        "new_df = df2.copy()\n",
        "\n",
        "# Drop empty cells in column 'Species'\n",
        "new_df.dropna(subset=['Species'], inplace=True)\n",
        "\n",
        "# Make values in lowercase for column 'Species'\n",
        "# Make it easier to find variables and adjusting data values\n",
        "new_df['Species'] = new_df['Species'].str.lower()\n",
        "\n",
        "#our working dataset with confirmed shark attacks by witnesses\n",
        "new_df \n",
        "\n",
        "\n",
        "#Function to determine top xx from a column\n",
        "def top(df, column_name, number):\n",
        "  return df[column_name].value_counts().head(number)\n",
        "\n",
        "#Function to drop empty values\n",
        "def drop_empty_values(df, column_name):\n",
        "    df = df.dropna(subset=column_name, inplace=True)"
      ],
      "metadata": {
        "id": "9JaEUJzSGzMl"
      },
      "execution_count": 54,
      "outputs": []
    },
    {
      "cell_type": "markdown",
      "source": [
        "# Question 1. What is the most dangerous types of sharks to humans?"
      ],
      "metadata": {
        "id": "ikQM9W_yn6CH"
      }
    },
    {
      "cell_type": "code",
      "source": [
        "# What are the most dangerous type of sharks\n",
        "df1_q1 = new_df.copy()\n",
        "\n",
        "# Select top 10 variables in column 'Species'\n",
        "top(df1_q1, 'Species', 10)"
      ],
      "metadata": {
        "colab": {
          "base_uri": "https://localhost:8080/"
        },
        "id": "wGj43Lt2oVrs",
        "outputId": "047e74ad-be9e-4fce-9450-2b6f79690996"
      },
      "execution_count": 56,
      "outputs": [
        {
          "output_type": "execute_result",
          "data": {
            "text/plain": [
              "white shark                                           164\n",
              "shark involvement prior to death was not confirmed    105\n",
              "invalid                                               102\n",
              "shark involvement not confirmed                        89\n",
              "tiger shark                                            73\n",
              "shark involvement prior to death unconfirmed           68\n",
              "bull shark                                             55\n",
              "6' shark                                               40\n",
              "4' shark                                               40\n",
              "questionable incident                                  38\n",
              "Name: Species, dtype: int64"
            ]
          },
          "metadata": {},
          "execution_count": 56
        }
      ]
    },
    {
      "cell_type": "code",
      "source": [
        "shark_not_involved = df1_q1['Species'].str.contains('Involvement')\n",
        "white_shark = df1_q1['Species'].str.contains('White')\n",
        "tiger_shark = df1_q1['Species'].str.contains('Tiger')\n",
        "bull_shark = df1_q1['Species'].str.contains('Bull')\n",
        "invalid = df1_q1['Species'].str.contains('Invalid')\n",
        "\n",
        "df1_q1['Species'] = np.where(shark_not_involved, 'no shark involvement', \n",
        "                          np.where(white_shark, 'white shark',\n",
        "                                   np.where(tiger_shark, 'tiger shark', \n",
        "                                            np.where(bull_shark, 'bull shark', \n",
        "                                                     np.where(invalid, None, df1_q1['Species'])))))\n",
        "\n",
        "#Dataset where similar variables are grouped together\n",
        "df1_q1"
      ],
      "metadata": {
        "colab": {
          "base_uri": "https://localhost:8080/",
          "height": 423
        },
        "id": "5PxHWpXiHxBC",
        "outputId": "a095c80f-0b72-4a83-8080-f2ab0ca5a808"
      },
      "execution_count": 57,
      "outputs": [
        {
          "output_type": "execute_result",
          "data": {
            "text/plain": [
              "            Type     Activity  Age  Fatal  \\\n",
              "0        Boating     Paddling   57  False   \n",
              "3     Unprovoked      Surfing  NaN  False   \n",
              "4       Provoked  Free diving  NaN  False   \n",
              "6     Unprovoked     Swimming   18   True   \n",
              "7     Unprovoked      Fishing   52  False   \n",
              "...          ...          ...  ...    ...   \n",
              "6276  Unprovoked     Standing   16   True   \n",
              "6293  Unprovoked      Fishing  NaN   True   \n",
              "6294  Unprovoked      Fishing  NaN   True   \n",
              "6295  Unprovoked      Fishing  NaN   True   \n",
              "6296  Unprovoked     Swimming  NaN   True   \n",
              "\n",
              "                                                Species  \n",
              "0                                           white shark  \n",
              "3                                             2 m shark  \n",
              "4                                       tiger shark, 3m  \n",
              "6                                           tiger shark  \n",
              "7                                       lemon shark, 3'  \n",
              "...                                                 ...  \n",
              "6276                                    12' tiger shark  \n",
              "6293                                       blue pointer  \n",
              "6294                                       blue pointer  \n",
              "6295                                      blue pointers  \n",
              "6296  said to involve a grey nurse shark that leapt ...  \n",
              "\n",
              "[3458 rows x 5 columns]"
            ],
            "text/html": [
              "\n",
              "  <div id=\"df-8e012e0c-805e-40c3-9748-003639a617d2\">\n",
              "    <div class=\"colab-df-container\">\n",
              "      <div>\n",
              "<style scoped>\n",
              "    .dataframe tbody tr th:only-of-type {\n",
              "        vertical-align: middle;\n",
              "    }\n",
              "\n",
              "    .dataframe tbody tr th {\n",
              "        vertical-align: top;\n",
              "    }\n",
              "\n",
              "    .dataframe thead th {\n",
              "        text-align: right;\n",
              "    }\n",
              "</style>\n",
              "<table border=\"1\" class=\"dataframe\">\n",
              "  <thead>\n",
              "    <tr style=\"text-align: right;\">\n",
              "      <th></th>\n",
              "      <th>Type</th>\n",
              "      <th>Activity</th>\n",
              "      <th>Age</th>\n",
              "      <th>Fatal</th>\n",
              "      <th>Species</th>\n",
              "    </tr>\n",
              "  </thead>\n",
              "  <tbody>\n",
              "    <tr>\n",
              "      <th>0</th>\n",
              "      <td>Boating</td>\n",
              "      <td>Paddling</td>\n",
              "      <td>57</td>\n",
              "      <td>False</td>\n",
              "      <td>white shark</td>\n",
              "    </tr>\n",
              "    <tr>\n",
              "      <th>3</th>\n",
              "      <td>Unprovoked</td>\n",
              "      <td>Surfing</td>\n",
              "      <td>NaN</td>\n",
              "      <td>False</td>\n",
              "      <td>2 m shark</td>\n",
              "    </tr>\n",
              "    <tr>\n",
              "      <th>4</th>\n",
              "      <td>Provoked</td>\n",
              "      <td>Free diving</td>\n",
              "      <td>NaN</td>\n",
              "      <td>False</td>\n",
              "      <td>tiger shark, 3m</td>\n",
              "    </tr>\n",
              "    <tr>\n",
              "      <th>6</th>\n",
              "      <td>Unprovoked</td>\n",
              "      <td>Swimming</td>\n",
              "      <td>18</td>\n",
              "      <td>True</td>\n",
              "      <td>tiger shark</td>\n",
              "    </tr>\n",
              "    <tr>\n",
              "      <th>7</th>\n",
              "      <td>Unprovoked</td>\n",
              "      <td>Fishing</td>\n",
              "      <td>52</td>\n",
              "      <td>False</td>\n",
              "      <td>lemon shark, 3'</td>\n",
              "    </tr>\n",
              "    <tr>\n",
              "      <th>...</th>\n",
              "      <td>...</td>\n",
              "      <td>...</td>\n",
              "      <td>...</td>\n",
              "      <td>...</td>\n",
              "      <td>...</td>\n",
              "    </tr>\n",
              "    <tr>\n",
              "      <th>6276</th>\n",
              "      <td>Unprovoked</td>\n",
              "      <td>Standing</td>\n",
              "      <td>16</td>\n",
              "      <td>True</td>\n",
              "      <td>12' tiger shark</td>\n",
              "    </tr>\n",
              "    <tr>\n",
              "      <th>6293</th>\n",
              "      <td>Unprovoked</td>\n",
              "      <td>Fishing</td>\n",
              "      <td>NaN</td>\n",
              "      <td>True</td>\n",
              "      <td>blue pointer</td>\n",
              "    </tr>\n",
              "    <tr>\n",
              "      <th>6294</th>\n",
              "      <td>Unprovoked</td>\n",
              "      <td>Fishing</td>\n",
              "      <td>NaN</td>\n",
              "      <td>True</td>\n",
              "      <td>blue pointer</td>\n",
              "    </tr>\n",
              "    <tr>\n",
              "      <th>6295</th>\n",
              "      <td>Unprovoked</td>\n",
              "      <td>Fishing</td>\n",
              "      <td>NaN</td>\n",
              "      <td>True</td>\n",
              "      <td>blue pointers</td>\n",
              "    </tr>\n",
              "    <tr>\n",
              "      <th>6296</th>\n",
              "      <td>Unprovoked</td>\n",
              "      <td>Swimming</td>\n",
              "      <td>NaN</td>\n",
              "      <td>True</td>\n",
              "      <td>said to involve a grey nurse shark that leapt ...</td>\n",
              "    </tr>\n",
              "  </tbody>\n",
              "</table>\n",
              "<p>3458 rows × 5 columns</p>\n",
              "</div>\n",
              "      <button class=\"colab-df-convert\" onclick=\"convertToInteractive('df-8e012e0c-805e-40c3-9748-003639a617d2')\"\n",
              "              title=\"Convert this dataframe to an interactive table.\"\n",
              "              style=\"display:none;\">\n",
              "        \n",
              "  <svg xmlns=\"http://www.w3.org/2000/svg\" height=\"24px\"viewBox=\"0 0 24 24\"\n",
              "       width=\"24px\">\n",
              "    <path d=\"M0 0h24v24H0V0z\" fill=\"none\"/>\n",
              "    <path d=\"M18.56 5.44l.94 2.06.94-2.06 2.06-.94-2.06-.94-.94-2.06-.94 2.06-2.06.94zm-11 1L8.5 8.5l.94-2.06 2.06-.94-2.06-.94L8.5 2.5l-.94 2.06-2.06.94zm10 10l.94 2.06.94-2.06 2.06-.94-2.06-.94-.94-2.06-.94 2.06-2.06.94z\"/><path d=\"M17.41 7.96l-1.37-1.37c-.4-.4-.92-.59-1.43-.59-.52 0-1.04.2-1.43.59L10.3 9.45l-7.72 7.72c-.78.78-.78 2.05 0 2.83L4 21.41c.39.39.9.59 1.41.59.51 0 1.02-.2 1.41-.59l7.78-7.78 2.81-2.81c.8-.78.8-2.07 0-2.86zM5.41 20L4 18.59l7.72-7.72 1.47 1.35L5.41 20z\"/>\n",
              "  </svg>\n",
              "      </button>\n",
              "      \n",
              "  <style>\n",
              "    .colab-df-container {\n",
              "      display:flex;\n",
              "      flex-wrap:wrap;\n",
              "      gap: 12px;\n",
              "    }\n",
              "\n",
              "    .colab-df-convert {\n",
              "      background-color: #E8F0FE;\n",
              "      border: none;\n",
              "      border-radius: 50%;\n",
              "      cursor: pointer;\n",
              "      display: none;\n",
              "      fill: #1967D2;\n",
              "      height: 32px;\n",
              "      padding: 0 0 0 0;\n",
              "      width: 32px;\n",
              "    }\n",
              "\n",
              "    .colab-df-convert:hover {\n",
              "      background-color: #E2EBFA;\n",
              "      box-shadow: 0px 1px 2px rgba(60, 64, 67, 0.3), 0px 1px 3px 1px rgba(60, 64, 67, 0.15);\n",
              "      fill: #174EA6;\n",
              "    }\n",
              "\n",
              "    [theme=dark] .colab-df-convert {\n",
              "      background-color: #3B4455;\n",
              "      fill: #D2E3FC;\n",
              "    }\n",
              "\n",
              "    [theme=dark] .colab-df-convert:hover {\n",
              "      background-color: #434B5C;\n",
              "      box-shadow: 0px 1px 3px 1px rgba(0, 0, 0, 0.15);\n",
              "      filter: drop-shadow(0px 1px 2px rgba(0, 0, 0, 0.3));\n",
              "      fill: #FFFFFF;\n",
              "    }\n",
              "  </style>\n",
              "\n",
              "      <script>\n",
              "        const buttonEl =\n",
              "          document.querySelector('#df-8e012e0c-805e-40c3-9748-003639a617d2 button.colab-df-convert');\n",
              "        buttonEl.style.display =\n",
              "          google.colab.kernel.accessAllowed ? 'block' : 'none';\n",
              "\n",
              "        async function convertToInteractive(key) {\n",
              "          const element = document.querySelector('#df-8e012e0c-805e-40c3-9748-003639a617d2');\n",
              "          const dataTable =\n",
              "            await google.colab.kernel.invokeFunction('convertToInteractive',\n",
              "                                                     [key], {});\n",
              "          if (!dataTable) return;\n",
              "\n",
              "          const docLinkHtml = 'Like what you see? Visit the ' +\n",
              "            '<a target=\"_blank\" href=https://colab.research.google.com/notebooks/data_table.ipynb>data table notebook</a>'\n",
              "            + ' to learn more about interactive tables.';\n",
              "          element.innerHTML = '';\n",
              "          dataTable['output_type'] = 'display_data';\n",
              "          await google.colab.output.renderOutput(dataTable, element);\n",
              "          const docLink = document.createElement('div');\n",
              "          docLink.innerHTML = docLinkHtml;\n",
              "          element.appendChild(docLink);\n",
              "        }\n",
              "      </script>\n",
              "    </div>\n",
              "  </div>\n",
              "  "
            ]
          },
          "metadata": {},
          "execution_count": 57
        }
      ]
    },
    {
      "cell_type": "code",
      "source": [
        "replace(df1_q1, 'Species', 'no shark involvement', None)\n",
        "drop_empty_values(df1_q1, ['Species'])\n",
        "\n",
        "is_fatal = df1_q1.loc[df1_q1.Fatal == True]\n",
        "is_fatal"
      ],
      "metadata": {
        "id": "ocVsCGieIF4Z"
      },
      "execution_count": null,
      "outputs": []
    },
    {
      "cell_type": "code",
      "source": [
        "is_fatal['Species'].value_counts().head(5).plot(kind='bar')\n",
        "\n",
        "plt.xlabel('Species')\n",
        "plt.ylabel('Amount ')\n",
        "plt.grid(True, axis='y')\n",
        "plt.title('Fatal Shark attacks')"
      ],
      "metadata": {
        "colab": {
          "base_uri": "https://localhost:8080/",
          "height": 392
        },
        "id": "pAzeiaZUHmy2",
        "outputId": "00388233-3f56-4d32-8dee-74ce3b654379"
      },
      "execution_count": 62,
      "outputs": [
        {
          "output_type": "execute_result",
          "data": {
            "text/plain": [
              "Text(0.5, 1.0, 'Fatal Shark attacks')"
            ]
          },
          "metadata": {},
          "execution_count": 62
        },
        {
          "output_type": "display_data",
          "data": {
            "text/plain": [
              "<Figure size 432x288 with 1 Axes>"
            ],
            "image/png": "[encoded data removed]"
          },
          "metadata": {}
        }
      ]
    },
    {
      "cell_type": "markdown",
      "source": [
        "The most dangerous sharks are The white Sharks. Keep in mind that this assumpsing is based on this data set. Most of the data was dit not specified species which made it difficult to specify. "
      ],
      "metadata": {
        "id": "QP7ukaaIo10P"
      }
    },
    {
      "cell_type": "markdown",
      "source": [
        "# Question 2.  Are children more likely to be attacked by sharks?"
      ],
      "metadata": {
        "id": "yoLGJK7sprnS"
      }
    },
    {
      "cell_type": "code",
      "source": [
        "df1_q2 = df1_q1.copy()\n",
        "replace(df1_q2, 'Species', 'no shark involvement', None)\n",
        "\n",
        "\n",
        "df1_q2['Age'] = pd.to_numeric(df1_q2['Age'], errors='coerce')\n",
        "df1_q2"
      ],
      "metadata": {
        "id": "T-9TorbQJLDx"
      },
      "execution_count": null,
      "outputs": []
    },
    {
      "cell_type": "code",
      "source": [
        "drop_empty_values(df1_q2, ['Age', 'Species'])\n",
        "df1_q2"
      ],
      "metadata": {
        "id": "jjd66tZCJNlK"
      },
      "execution_count": null,
      "outputs": []
    },
    {
      "cell_type": "code",
      "source": [
        "df1_q2['Age_group'] = df1_q2.loc[:, 'Age'] < 18\n",
        "\n",
        "\n",
        "\"\"\"\n",
        "Then we replace the boolean values in the column 'Age group' with child and adult. \n",
        "By plotting the results it shows that children aren't more likely to be attacked by sharks. \n",
        "488 childrens were attacked by sharks, whereas 1631 were adult\n",
        "\"\"\"\n",
        "\n",
        "#replace boolean values with 'Child' when < 18 yrs and 'Adult' when > 18 yrs\n",
        "df1_q2['Age_group'] = df1_q2['Age_group'].replace({False: 'Adult', True:'Child'})\n",
        "\n",
        "#plotting a barchart\n",
        "df1_q2['Age_group'].value_counts().plot(kind='bar')\n",
        "plt.xticks(rotation=0)\n",
        "plt.ylabel('Amount of  shark attacks')\n",
        "plt.title('Shark attacks Regarding Adult & Child')\n",
        "plt.show()"
      ],
      "metadata": {
        "colab": {
          "base_uri": "https://localhost:8080/",
          "height": 282
        },
        "id": "B8XBy73vpvbn",
        "outputId": "fcd6f456-a39e-48bc-9ac0-bddbd75e8bd7"
      },
      "execution_count": 70,
      "outputs": [
        {
          "output_type": "display_data",
          "data": {
            "text/plain": [
              "<Figure size 432x288 with 1 Axes>"
            ],
            "image/png": "[encoded data removed]"
          },
          "metadata": {}
        }
      ]
    },
    {
      "cell_type": "markdown",
      "source": [
        "According to the data adults are more likely to be attacked than childeren. A reason is that the activities of adults are more easeliy provoking the sharks. Because the the activities of the adults will probably part take is the deeper part of the ocean. \n"
      ],
      "metadata": {
        "id": "LKg-TK30qjfO"
      }
    },
    {
      "cell_type": "markdown",
      "source": [
        "#Question 3.  Are shark attacks where sharks were provoked more or less dangerous?"
      ],
      "metadata": {
        "id": "e53NoL_7rTIO"
      }
    },
    {
      "cell_type": "code",
      "source": [
        "df1_q3 = df1_q1.copy()\n",
        "df1_q3"
      ],
      "metadata": {
        "id": "sp-819_srXBh"
      },
      "execution_count": null,
      "outputs": []
    },
    {
      "cell_type": "code",
      "source": [
        "is_provoked = df1_q3.loc[df1_q3.Type == 'Provoked']\n",
        "is_provoked\n"
      ],
      "metadata": {
        "colab": {
          "base_uri": "https://localhost:8080/",
          "height": 423
        },
        "id": "ZBvtedS5JxdC",
        "outputId": "402e4d27-30ed-4050-aff0-ecf7b4e6e585"
      },
      "execution_count": 121,
      "outputs": [
        {
          "output_type": "execute_result",
          "data": {
            "text/plain": [
              "          Type                                           Activity  Age  Fatal  \\\n",
              "4     Provoked                                        Free diving  NaN  False   \n",
              "10    Provoked                                     Feeding sharks   32  False   \n",
              "14    Provoked                                     Feeding sharks   34  False   \n",
              "55    Provoked                                   Fishing / Wading   24  False   \n",
              "104   Provoked                                            Fishing   34  False   \n",
              "...        ...                                                ...  ...    ...   \n",
              "5939  Provoked                                   Dragging a shark  NaN  False   \n",
              "6131  Provoked                    Standing on landed shark's tail  NaN   True   \n",
              "6224  Provoked                Attempting to drive shark from area  NaN  False   \n",
              "6226  Provoked  Skin diving. Grabbed shark's tail; shark turne...   19  False   \n",
              "6250  Provoked          Testing movie camera in full diving dress  NaN  False   \n",
              "\n",
              "                       Species  \n",
              "4              tiger shark, 3m  \n",
              "10             grey reef shark  \n",
              "14       tawny nurse shark, 2m  \n",
              "55        juvenile nurse shark  \n",
              "104                   4' shark  \n",
              "...                        ...  \n",
              "5939               1.5 m shark  \n",
              "6131                 12' shark  \n",
              "6224  a large hammerhead shark  \n",
              "6226  nurse shark, 2.1 m [7']   \n",
              "6250   nurse shark, 2.1 m [7']  \n",
              "\n",
              "[412 rows x 5 columns]"
            ],
            "text/html": [
              "\n",
              "  <div id=\"df-6fa0466c-fca7-4c5b-8422-8a0eabbadbbc\">\n",
              "    <div class=\"colab-df-container\">\n",
              "      <div>\n",
              "<style scoped>\n",
              "    .dataframe tbody tr th:only-of-type {\n",
              "        vertical-align: middle;\n",
              "    }\n",
              "\n",
              "    .dataframe tbody tr th {\n",
              "        vertical-align: top;\n",
              "    }\n",
              "\n",
              "    .dataframe thead th {\n",
              "        text-align: right;\n",
              "    }\n",
              "</style>\n",
              "<table border=\"1\" class=\"dataframe\">\n",
              "  <thead>\n",
              "    <tr style=\"text-align: right;\">\n",
              "      <th></th>\n",
              "      <th>Type</th>\n",
              "      <th>Activity</th>\n",
              "      <th>Age</th>\n",
              "      <th>Fatal</th>\n",
              "      <th>Species</th>\n",
              "    </tr>\n",
              "  </thead>\n",
              "  <tbody>\n",
              "    <tr>\n",
              "      <th>4</th>\n",
              "      <td>Provoked</td>\n",
              "      <td>Free diving</td>\n",
              "      <td>NaN</td>\n",
              "      <td>False</td>\n",
              "      <td>tiger shark, 3m</td>\n",
              "    </tr>\n",
              "    <tr>\n",
              "      <th>10</th>\n",
              "      <td>Provoked</td>\n",
              "      <td>Feeding sharks</td>\n",
              "      <td>32</td>\n",
              "      <td>False</td>\n",
              "      <td>grey reef shark</td>\n",
              "    </tr>\n",
              "    <tr>\n",
              "      <th>14</th>\n",
              "      <td>Provoked</td>\n",
              "      <td>Feeding sharks</td>\n",
              "      <td>34</td>\n",
              "      <td>False</td>\n",
              "      <td>tawny nurse shark, 2m</td>\n",
              "    </tr>\n",
              "    <tr>\n",
              "      <th>55</th>\n",
              "      <td>Provoked</td>\n",
              "      <td>Fishing / Wading</td>\n",
              "      <td>24</td>\n",
              "      <td>False</td>\n",
              "      <td>juvenile nurse shark</td>\n",
              "    </tr>\n",
              "    <tr>\n",
              "      <th>104</th>\n",
              "      <td>Provoked</td>\n",
              "      <td>Fishing</td>\n",
              "      <td>34</td>\n",
              "      <td>False</td>\n",
              "      <td>4' shark</td>\n",
              "    </tr>\n",
              "    <tr>\n",
              "      <th>...</th>\n",
              "      <td>...</td>\n",
              "      <td>...</td>\n",
              "      <td>...</td>\n",
              "      <td>...</td>\n",
              "      <td>...</td>\n",
              "    </tr>\n",
              "    <tr>\n",
              "      <th>5939</th>\n",
              "      <td>Provoked</td>\n",
              "      <td>Dragging a shark</td>\n",
              "      <td>NaN</td>\n",
              "      <td>False</td>\n",
              "      <td>1.5 m shark</td>\n",
              "    </tr>\n",
              "    <tr>\n",
              "      <th>6131</th>\n",
              "      <td>Provoked</td>\n",
              "      <td>Standing on landed shark's tail</td>\n",
              "      <td>NaN</td>\n",
              "      <td>True</td>\n",
              "      <td>12' shark</td>\n",
              "    </tr>\n",
              "    <tr>\n",
              "      <th>6224</th>\n",
              "      <td>Provoked</td>\n",
              "      <td>Attempting to drive shark from area</td>\n",
              "      <td>NaN</td>\n",
              "      <td>False</td>\n",
              "      <td>a large hammerhead shark</td>\n",
              "    </tr>\n",
              "    <tr>\n",
              "      <th>6226</th>\n",
              "      <td>Provoked</td>\n",
              "      <td>Skin diving. Grabbed shark's tail; shark turne...</td>\n",
              "      <td>19</td>\n",
              "      <td>False</td>\n",
              "      <td>nurse shark, 2.1 m [7']</td>\n",
              "    </tr>\n",
              "    <tr>\n",
              "      <th>6250</th>\n",
              "      <td>Provoked</td>\n",
              "      <td>Testing movie camera in full diving dress</td>\n",
              "      <td>NaN</td>\n",
              "      <td>False</td>\n",
              "      <td>nurse shark, 2.1 m [7']</td>\n",
              "    </tr>\n",
              "  </tbody>\n",
              "</table>\n",
              "<p>412 rows × 5 columns</p>\n",
              "</div>\n",
              "      <button class=\"colab-df-convert\" onclick=\"convertToInteractive('df-6fa0466c-fca7-4c5b-8422-8a0eabbadbbc')\"\n",
              "              title=\"Convert this dataframe to an interactive table.\"\n",
              "              style=\"display:none;\">\n",
              "        \n",
              "  <svg xmlns=\"http://www.w3.org/2000/svg\" height=\"24px\"viewBox=\"0 0 24 24\"\n",
              "       width=\"24px\">\n",
              "    <path d=\"M0 0h24v24H0V0z\" fill=\"none\"/>\n",
              "    <path d=\"M18.56 5.44l.94 2.06.94-2.06 2.06-.94-2.06-.94-.94-2.06-.94 2.06-2.06.94zm-11 1L8.5 8.5l.94-2.06 2.06-.94-2.06-.94L8.5 2.5l-.94 2.06-2.06.94zm10 10l.94 2.06.94-2.06 2.06-.94-2.06-.94-.94-2.06-.94 2.06-2.06.94z\"/><path d=\"M17.41 7.96l-1.37-1.37c-.4-.4-.92-.59-1.43-.59-.52 0-1.04.2-1.43.59L10.3 9.45l-7.72 7.72c-.78.78-.78 2.05 0 2.83L4 21.41c.39.39.9.59 1.41.59.51 0 1.02-.2 1.41-.59l7.78-7.78 2.81-2.81c.8-.78.8-2.07 0-2.86zM5.41 20L4 18.59l7.72-7.72 1.47 1.35L5.41 20z\"/>\n",
              "  </svg>\n",
              "      </button>\n",
              "      \n",
              "  <style>\n",
              "    .colab-df-container {\n",
              "      display:flex;\n",
              "      flex-wrap:wrap;\n",
              "      gap: 12px;\n",
              "    }\n",
              "\n",
              "    .colab-df-convert {\n",
              "      background-color: #E8F0FE;\n",
              "      border: none;\n",
              "      border-radius: 50%;\n",
              "      cursor: pointer;\n",
              "      display: none;\n",
              "      fill: #1967D2;\n",
              "      height: 32px;\n",
              "      padding: 0 0 0 0;\n",
              "      width: 32px;\n",
              "    }\n",
              "\n",
              "    .colab-df-convert:hover {\n",
              "      background-color: #E2EBFA;\n",
              "      box-shadow: 0px 1px 2px rgba(60, 64, 67, 0.3), 0px 1px 3px 1px rgba(60, 64, 67, 0.15);\n",
              "      fill: #174EA6;\n",
              "    }\n",
              "\n",
              "    [theme=dark] .colab-df-convert {\n",
              "      background-color: #3B4455;\n",
              "      fill: #D2E3FC;\n",
              "    }\n",
              "\n",
              "    [theme=dark] .colab-df-convert:hover {\n",
              "      background-color: #434B5C;\n",
              "      box-shadow: 0px 1px 3px 1px rgba(0, 0, 0, 0.15);\n",
              "      filter: drop-shadow(0px 1px 2px rgba(0, 0, 0, 0.3));\n",
              "      fill: #FFFFFF;\n",
              "    }\n",
              "  </style>\n",
              "\n",
              "      <script>\n",
              "        const buttonEl =\n",
              "          document.querySelector('#df-6fa0466c-fca7-4c5b-8422-8a0eabbadbbc button.colab-df-convert');\n",
              "        buttonEl.style.display =\n",
              "          google.colab.kernel.accessAllowed ? 'block' : 'none';\n",
              "\n",
              "        async function convertToInteractive(key) {\n",
              "          const element = document.querySelector('#df-6fa0466c-fca7-4c5b-8422-8a0eabbadbbc');\n",
              "          const dataTable =\n",
              "            await google.colab.kernel.invokeFunction('convertToInteractive',\n",
              "                                                     [key], {});\n",
              "          if (!dataTable) return;\n",
              "\n",
              "          const docLinkHtml = 'Like what you see? Visit the ' +\n",
              "            '<a target=\"_blank\" href=https://colab.research.google.com/notebooks/data_table.ipynb>data table notebook</a>'\n",
              "            + ' to learn more about interactive tables.';\n",
              "          element.innerHTML = '';\n",
              "          dataTable['output_type'] = 'display_data';\n",
              "          await google.colab.output.renderOutput(dataTable, element);\n",
              "          const docLink = document.createElement('div');\n",
              "          docLink.innerHTML = docLinkHtml;\n",
              "          element.appendChild(docLink);\n",
              "        }\n",
              "      </script>\n",
              "    </div>\n",
              "  </div>\n",
              "  "
            ]
          },
          "metadata": {},
          "execution_count": 121
        }
      ]
    },
    {
      "cell_type": "code",
      "source": [
        "is_provoked['Fatal'].value_counts().plot(kind='bar')\n",
        "plt.title('Provoked shark attacks')\n",
        "plt.xticks(rotation=0)\n",
        "plt.xlabel('Fatal casualties')\n",
        "plt.ylabel('Amount of shark attacks')\n",
        "plt.show()"
      ],
      "metadata": {
        "colab": {
          "base_uri": "https://localhost:8080/",
          "height": 299
        },
        "id": "o0Mbh0Q3J2vM",
        "outputId": "513c40e3-acb5-41b0-d276-bdfbc8cf2318"
      },
      "execution_count": 122,
      "outputs": [
        {
          "output_type": "display_data",
          "data": {
            "text/plain": [
              "<Figure size 432x288 with 1 Axes>"
            ],
            "image/png": "[encoded data removed]"
          },
          "metadata": {}
        }
      ]
    },
    {
      "cell_type": "code",
      "source": [
        "unprovoked =  df1_q3.loc[df1_q3.Type == 'Unprovoked']\n",
        "unprovoked"
      ],
      "metadata": {
        "id": "cYCXvYnorvIx"
      },
      "execution_count": null,
      "outputs": []
    },
    {
      "cell_type": "code",
      "source": [
        "unprovoked['Fatal'].value_counts().plot(kind='bar')\n",
        "plt.title('Unprovoked shark attacks')\n",
        "plt.xticks(rotation=0)\n",
        "plt.xlabel('Fatal ')\n",
        "plt.ylabel('Amount of shark attacks')\n",
        "plt.show()"
      ],
      "metadata": {
        "colab": {
          "base_uri": "https://localhost:8080/",
          "height": 299
        },
        "id": "ZnSLLP4aOV-u",
        "outputId": "16fbf7ad-5f37-4f6f-ab02-d402125f4d9b"
      },
      "execution_count": 118,
      "outputs": [
        {
          "output_type": "display_data",
          "data": {
            "text/plain": [
              "<Figure size 432x288 with 1 Axes>"
            ],
            "image/png": "[encoded data removed]"
          },
          "metadata": {}
        }
      ]
    },
    {
      "cell_type": "markdown",
      "source": [
        "As you can see there is no clear indication that unprovoked attacks are more dangerous.  As stated in the website https://petpedia.co/shark-attack-statistics/. Most attacks are just sharks exploring their territory or mistaking a human for one of the species they like to eat. So its not on if its provoked or not. Is more the curiosity of the shark that ends up in a attack than the involvement of the human. "
      ],
      "metadata": {
        "id": "o65JSokd5V00"
      }
    },
    {
      "cell_type": "markdown",
      "source": [
        "# Question 4. Are certain activities more likely to result in a shark attack?"
      ],
      "metadata": {
        "id": "4at3U8WO7rQS"
      }
    },
    {
      "cell_type": "code",
      "source": [
        "df1_q4 = df1_q1.copy()\n",
        "\n",
        "# Remove all empty data values from column 'Activity' and 'Species'\n",
        "replace(df1_q4, 'Species', 'no shark involvement', None)\n",
        "drop_empty_values(df1_q4, ['Activity', 'Species'])"
      ],
      "metadata": {
        "id": "2tzQED6z7RiX"
      },
      "execution_count": 107,
      "outputs": []
    },
    {
      "cell_type": "code",
      "source": [
        "top_10_activities = top(df1_q4, 'Activity', 10)\n",
        "\n",
        "top_10_activities.plot(kind='bar')\n",
        "\n",
        "plt.title('Activities Most Likely Resulting in Shark Attacks')\n",
        "plt.xlabel('Activities')\n",
        "plt.ylabel('Amount of shark attacks')\n",
        "plt.xticks(rotation=45)\n",
        "plt.grid(axis='y')\n",
        "plt.show()\n"
      ],
      "metadata": {
        "colab": {
          "base_uri": "https://localhost:8080/",
          "height": 348
        },
        "id": "8ASRcjF8PZRP",
        "outputId": "145c3ebe-1cbc-4667-961d-884f77e49179"
      },
      "execution_count": 123,
      "outputs": [
        {
          "output_type": "display_data",
          "data": {
            "text/plain": [
              "<Figure size 432x288 with 1 Axes>"
            ],
            "image/png": "[encoded data removed]"
          },
          "metadata": {}
        }
      ]
    },
    {
      "cell_type": "markdown",
      "source": [
        "Based on this data set the most accuring activities that result in a shark attack, are Surfing and Swimming. \n",
        "\n",
        "Conclusion is. Respect the ocean."
      ],
      "metadata": {
        "id": "v4dDYxPTARQa"
      }
    }
  ]
}